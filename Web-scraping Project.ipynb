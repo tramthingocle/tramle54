{
 "cells": [
  {
   "cell_type": "code",
   "execution_count": 1,
   "id": "7ee35a68",
   "metadata": {},
   "outputs": [
    {
     "name": "stdout",
     "output_type": "stream",
     "text": [
      "Requirement already satisfied: newspaper3k in /Users/tramle/opt/anaconda3/lib/python3.9/site-packages (0.2.8)\n",
      "Requirement already satisfied: cssselect>=0.9.2 in /Users/tramle/opt/anaconda3/lib/python3.9/site-packages (from newspaper3k) (1.1.0)\n",
      "Requirement already satisfied: requests>=2.10.0 in /Users/tramle/opt/anaconda3/lib/python3.9/site-packages (from newspaper3k) (2.27.1)\n",
      "Requirement already satisfied: feedfinder2>=0.0.4 in /Users/tramle/opt/anaconda3/lib/python3.9/site-packages (from newspaper3k) (0.0.4)\n",
      "Requirement already satisfied: jieba3k>=0.35.1 in /Users/tramle/opt/anaconda3/lib/python3.9/site-packages (from newspaper3k) (0.35.1)\n",
      "Requirement already satisfied: tldextract>=2.0.1 in /Users/tramle/opt/anaconda3/lib/python3.9/site-packages (from newspaper3k) (3.2.0)\n",
      "Requirement already satisfied: python-dateutil>=2.5.3 in /Users/tramle/opt/anaconda3/lib/python3.9/site-packages (from newspaper3k) (2.8.2)\n",
      "Requirement already satisfied: feedparser>=5.2.1 in /Users/tramle/opt/anaconda3/lib/python3.9/site-packages (from newspaper3k) (6.0.10)\n",
      "Requirement already satisfied: lxml>=3.6.0 in /Users/tramle/opt/anaconda3/lib/python3.9/site-packages (from newspaper3k) (4.8.0)\n",
      "Requirement already satisfied: tinysegmenter==0.3 in /Users/tramle/opt/anaconda3/lib/python3.9/site-packages (from newspaper3k) (0.3)\n",
      "Requirement already satisfied: Pillow>=3.3.0 in /Users/tramle/opt/anaconda3/lib/python3.9/site-packages (from newspaper3k) (9.0.1)\n",
      "Requirement already satisfied: beautifulsoup4>=4.4.1 in /Users/tramle/opt/anaconda3/lib/python3.9/site-packages (from newspaper3k) (4.11.1)\n",
      "Requirement already satisfied: PyYAML>=3.11 in /Users/tramle/opt/anaconda3/lib/python3.9/site-packages (from newspaper3k) (6.0)\n",
      "Requirement already satisfied: nltk>=3.2.1 in /Users/tramle/opt/anaconda3/lib/python3.9/site-packages (from newspaper3k) (3.7)\n",
      "Requirement already satisfied: soupsieve>1.2 in /Users/tramle/opt/anaconda3/lib/python3.9/site-packages (from beautifulsoup4>=4.4.1->newspaper3k) (2.3.1)\n",
      "Requirement already satisfied: six in /Users/tramle/opt/anaconda3/lib/python3.9/site-packages (from feedfinder2>=0.0.4->newspaper3k) (1.16.0)\n",
      "Requirement already satisfied: sgmllib3k in /Users/tramle/opt/anaconda3/lib/python3.9/site-packages (from feedparser>=5.2.1->newspaper3k) (1.0.0)\n",
      "Requirement already satisfied: click in /Users/tramle/opt/anaconda3/lib/python3.9/site-packages (from nltk>=3.2.1->newspaper3k) (8.0.4)\n",
      "Requirement already satisfied: regex>=2021.8.3 in /Users/tramle/opt/anaconda3/lib/python3.9/site-packages (from nltk>=3.2.1->newspaper3k) (2022.3.15)\n",
      "Requirement already satisfied: tqdm in /Users/tramle/opt/anaconda3/lib/python3.9/site-packages (from nltk>=3.2.1->newspaper3k) (4.64.0)\n",
      "Requirement already satisfied: joblib in /Users/tramle/opt/anaconda3/lib/python3.9/site-packages (from nltk>=3.2.1->newspaper3k) (1.1.0)\n",
      "Requirement already satisfied: charset-normalizer~=2.0.0 in /Users/tramle/opt/anaconda3/lib/python3.9/site-packages (from requests>=2.10.0->newspaper3k) (2.0.4)\n",
      "Requirement already satisfied: idna<4,>=2.5 in /Users/tramle/opt/anaconda3/lib/python3.9/site-packages (from requests>=2.10.0->newspaper3k) (3.3)\n",
      "Requirement already satisfied: certifi>=2017.4.17 in /Users/tramle/opt/anaconda3/lib/python3.9/site-packages (from requests>=2.10.0->newspaper3k) (2021.10.8)\n",
      "Requirement already satisfied: urllib3<1.27,>=1.21.1 in /Users/tramle/opt/anaconda3/lib/python3.9/site-packages (from requests>=2.10.0->newspaper3k) (1.26.9)\n",
      "Requirement already satisfied: filelock>=3.0.8 in /Users/tramle/opt/anaconda3/lib/python3.9/site-packages (from tldextract>=2.0.1->newspaper3k) (3.6.0)\n",
      "Requirement already satisfied: requests-file>=1.4 in /Users/tramle/opt/anaconda3/lib/python3.9/site-packages (from tldextract>=2.0.1->newspaper3k) (1.5.1)\n",
      "Note: you may need to restart the kernel to use updated packages.\n"
     ]
    }
   ],
   "source": [
    "# Install newspaper3k package to run the program\n",
    "%pip install newspaper3k"
   ]
  },
  {
   "cell_type": "code",
   "execution_count": 2,
   "id": "d928105e",
   "metadata": {},
   "outputs": [
    {
     "name": "stdout",
     "output_type": "stream",
     "text": [
      "Enter the website link here: https://www.nytimes.com/\n",
      "['https://www.nytimes.com/']\n"
     ]
    }
   ],
   "source": [
    "# Import the newspaper library and get the config function (this helps with testing to stop the programfrom filtering out articles you have already seen)\n",
    "import newspaper\n",
    "from newspaper import Config\n",
    "\n",
    "config = Config()\n",
    "config.memoize_articles = False\n",
    "\n",
    "# Prompt user to enter multiple urls seperated by ,\n",
    "urls = [str(x) for x in input(\"Enter the website link here: \").split(\",\")]\n",
    "\n",
    "print(urls)"
   ]
  },
  {
   "cell_type": "code",
   "execution_count": 3,
   "id": "36f1734a",
   "metadata": {},
   "outputs": [
    {
     "name": "stdout",
     "output_type": "stream",
     "text": [
      "Russia\n"
     ]
    }
   ],
   "source": [
    "# Prompt user to enter the keyword they want to find in these websites\n",
    "keyword_finder = 'Russia' #input('Enter keyword to find here: ')\n",
    "print(keyword_finder)"
   ]
  },
  {
   "cell_type": "code",
   "execution_count": 4,
   "id": "f6a8fbc6",
   "metadata": {},
   "outputs": [],
   "source": [
    "# Base to calculate the total number of articles with the keywords across all urls\n",
    "num_article_found_total = 0"
   ]
  },
  {
   "cell_type": "code",
   "execution_count": 5,
   "id": "7adfba01",
   "metadata": {},
   "outputs": [
    {
     "name": "stdout",
     "output_type": "stream",
     "text": [
      "Updates: King Charles III Expresses ‘Profound Sorrow’ Over Queen’s Death in First Speech\n",
      "Russia-Ukraine War and Kharkiv News: Live Updates\n",
      "Found! Russia in https://www.nytimes.com/live/2022/09/09/world/ukraine-russia-war\n",
      "Queen Elizabeth II: The One Constant in an Inconstant World\n",
      "Queen Elizabeth II Dies at 96; Was Britain’s Longest-Reigning Monarch\n",
      "Queen Elizabeth II: A Life in Photos\n",
      "Camilla Becomes Queen Consort, Capping Years of Image Restoration\n",
      "Why King Charles’s profile may face left on British coins, and why it matters.\n",
      "Queen Elizabeth, and the Power and Limitations of Inspiring Women\n",
      "In London, Mourning, Remembrance and Tributes. And Some Shrugs.\n",
      "Balmoral, a Cherished Royal Getaway in Scotland, Becomes a Place of Pilgrimage\n",
      "Ukraine Under Attack: Documenting the Russian Invasion\n",
      "Found! Russia in https://www.nytimes.com/article/russia-invades-ukraine-photos.html\n",
      "Thousands of Civilian Deaths and 6.6 Million Refugees: Calculating the Costs of War\n",
      "A Nuclear Power Plant on Ukraine’s Front Lines\n",
      "Found! Russia in https://www.nytimes.com/2022/09/07/podcasts/the-daily/ukraine-war-zaporizhzhia-nuclear-plant.html\n",
      "U.S. Urges European Nations: Don’t Let Putin ‘Bully’ Over Energy Prices\n",
      "Found! Russia in https://www.nytimes.com/live/2022/09/09/world/ukraine-russia-war/ukraine-says-it-has-regained-ground-in-the-kharkiv-region\n",
      "Maps: Tracking the Russian Invasion of Ukraine\n",
      "Found! Russia in https://www.nytimes.com/interactive/2022/world/europe/ukraine-maps.html\n",
      "Understand the classified documents inquiry\n",
      "Understand the criminal investigation of Georgia election interference\n",
      "Understand the Jan. 6 investigations\n",
      "Understand the New York State civil inquiry of Trump and the Trump Organization\n",
      "Justice Dept. Asks Judge to Lift Block on Trump Documents Investigation\n",
      "After a Legal Fight, Oberlin Says It Will Pay $36.59 Million to a Local Bakery\n",
      "‘We Are Here Because of Him’: The Runner Who Defied Apartheid\n",
      "In New Hampshire, a MAGA Rivalry Is Splitting House Republicans\n",
      "In Ohio, Biden Says Democrats Have Started a Manufacturing Revival\n",
      "What to Know About the New Booster Shots\n",
      "What the New C.D.C. Guidelines Mean for You\n",
      "China’s Public Puts on a Show of Zero Covid for an Audience of One\n",
      "Coronavirus World Map: Tracking the Global Outbreak\n",
      "Tracking Coronavirus Vaccinations Around the World\n",
      "Hochul Declares Polio State of Emergency for New York\n",
      "Traveling This Fall? Expect Cheaper Prices, ‘Seasonal Drift’ and, Yes, Chaos\n",
      "Queen Elizabeth Has Died. She Embodied the Myth of the Good Monarch. - The New York Times\n",
      "Opinion | Mourn the Queen, Not Her Empire\n",
      "Opinion | Biden Is Telling You That Trump Is a Threat, and the Proof Is Everywhere\n",
      "Opinion | What My Family and I Saw When We Were Trapped in China’s Heat Wave\n",
      "Opinion | How to Address the Child Therapist Shortage\n",
      "Opinion | The Exceptionally American Experience of Selling My Plasma\n",
      "Opinion | The Immortal Awfulness of Open Plan Workplaces\n",
      "Opinion | Wonking Out: The Mysteries of the Almighty Dollar\n",
      "Found! Russia in https://www.nytimes.com/2022/09/09/opinion/united-states-dollar-euro-currency.html\n",
      "Opinion | Was Biden’s Democracy Speech Too Harsh?\n",
      "Opinion | What This War Correspondent Wants You to Know About America and Fear\n",
      "Opinion | Wartime Economics Comes to Europe\n",
      "Opinion | Live by the Trump, Die by the Trump\n",
      "Opinion | The Man Who Won the Republican Party Before Trump Did\n",
      "Opinion | Mr. Biden, Tear Down This Highway\n",
      "Opinion | What Antarctica’s Disintegration Asks of Us\n",
      "Opinion | Your Childhood Home Is in Front of You. Do You Go In?\n",
      "The Electrifying, Emotional Return of Yeah Yeah Yeahs\n",
      "What Makes Your Brain Different From a Neanderthal’s?\n",
      "Hate Doing the Dishes? Try These 3 One-Pot, One-Pan Recipes.\n",
      "An Era Ends\n",
      "How Queen Elizabeth II Saved the Monarchy\n",
      "When There’s Nothing in the Fridge\n",
      "A Goodbye to Readers and a Reflection\n",
      "In a Power Crisis, South Africans Adjust to Life in the Dark\n",
      "Bill de Blasio Knows New York Is Tired of Him. He’s at Peace With It.\n",
      "He Stole Another Man’s Name to Rejoin the Army. He Got Caught Decades Later.\n",
      "With Drought, ‘Spanish Stonehenge’ Emerges Once Again\n",
      "Biden Administration Outlines Scope of Asian Economic Pact\n",
      "Campaign updates: New Mexico official removed from office plans to appeal; Hobbs won’t debate Lake in Arizona’s governor race.\n",
      "Los Angeles County Investigates Death of Person With Monkeypox\n",
      "Joseph Hazelwood, Captain of the Exxon Valdez, Is Dead at 75\n",
      "Tropical Storm Kay Moves Up Baja California’s Western Coast\n",
      "B.Y.U. Says It Found No Evidence of Racial Slurs at Volleyball Match\n",
      "Hawkish central banks push borrowing costs higher around the world.\n",
      "Can Exercise Strengthen Your Immunity?\n",
      "A Do-Anywhere Full-Body Workout\n",
      "Be Here Now: How to Exercise Mindfully\n",
      "How to Start Liking Running\n",
      "Can Moving the Body Heal the Mind?\n",
      "Some Like It Not: Are Men in Dresses Still Funny?\n",
      "The Killer Who Terrorized Cleveland — and Spurred It to Change\n",
      "Immortality Delayed Is Still Immortality\n",
      "It’s Never Too Late to Uproot Your Life and Open an Inn\n",
      "Kenny Rivero’s Tricks of the Eye\n",
      "The New York Times\n",
      "Hong Kong Protests\n",
      "The New York Times\n",
      "The New York Times\n",
      "Visual Investigations\n",
      "The New York Times\n",
      "The New York Times\n",
      "The New York Times\n",
      "The New York Times\n",
      "The New York Times\n",
      "Op-Docs - The New York Times\n",
      "The New York Times\n",
      "Found! Russia in https://www.nytimes.com/video/opinion\n",
      "In Africa, the queen’s death renews a debate about the legacy of the British Empire.\n",
      "Ons Jabeur Will Play Iga Swiatek for the U.S. Open Women’s Singles Title\n",
      "Tiafoe Is the Latest Hope for the Rise of Black Men in Tennis\n",
      "Amid Arsenic Scare, a Bacteria Threat Emerges in Public Housing Complex\n",
      "Polio Symptoms and Prevention: What to Know\n",
      "Polio Is Worrying Parents. Doctors Say Vaccination Is the Answer.\n",
      "First Polio Case in Nearly a Decade Is Detected in New York State\n"
     ]
    },
    {
     "name": "stderr",
     "output_type": "stream",
     "text": [
      "Building prefix dict from /Users/tramle/opt/anaconda3/lib/python3.9/site-packages/jieba/dict.txt ...\n",
      "Dumping model to file cache /var/folders/_f/mv0hv30j5lggvl5cq9hj8gcm0000gn/T/jieba.cache\n",
      "Loading model cost 1.1438262462615967 seconds.\n",
      "Prefix dict has been built succesfully.\n"
     ]
    },
    {
     "name": "stdout",
     "output_type": "stream",
     "text": [
      "时报普利策获奖作品\n",
      "中国富豪涌现出走潮：当企业家成为中国经济的局外人\n",
      "简报：英国女王伊丽莎白二世去世；中国富豪为何频频卸任出走？\n",
      "中国罕见干旱进一步扰乱全球供应链\n",
      "中国新冠“清零”困局：代价高昂，进退两难\n",
      "中国如何塑造了今天的iPhone\n",
      "普京称下周将与习近平会面\n",
      "美国最新解密情报：俄罗斯向朝鲜购买武器\n",
      "拜登内政外交议程核心：捍卫民主\n",
      "“不可见的、缺席的”：中国女性对抗暴力与审查的困境\n",
      "远离战火与流血，莫斯科人如常生活\n",
      "中国跨境电商Shein为何风靡美国\n",
      "英国新首相特拉斯：新“铁娘子”如何应对内忧外患？\n",
      "中国多地封控影响约6000万人，民众日渐厌倦\n",
      "训练残酷、药物泛滥：受训学员之死暴露海豹突击队阴暗面\n",
      "英国女王伊丽莎白二世逝世，享年96岁\n",
      "查尔斯继承王位：从丑闻和质疑中走出的新任英国君主\n",
      "“厅局风”穿搭为何吸引中国年轻一代男性\n",
      "当外企选择离开，中国用什么制衡西方？\n",
      "在美国，有些人开始“躺平”\n",
      "追逐“巨型冰雹”\n",
      "为什么世界没那么平了\n",
      "后戈尔巴乔夫时代俄罗斯经济有多糟糕？\n",
      "戈尔巴乔夫给苏联带来自由，但没能拯救它\n",
      "从中俄两国的贸易顺差看独裁统治的麻烦\n",
      "凝视深空宇宙：韦伯太空望远镜发回壮丽奇景\n",
      "黄石国家公园遭洪水侵袭，34年来首次闭园\n",
      "“我们埋了他，然后继续走”：在索马里逃离饥荒\n",
      "现场图集：伊丽莎白女王登基白金禧庆典\n",
      "斯里兰卡抗议：一个国家的危机和愤怒\n",
      "不能吃的“美食”\n",
      "图集：俄罗斯庆祝胜利日，普京在红场阅兵\n",
      "The New York Times\n",
      "为什么说习近平“自信论”可能成为中国的弱点\n",
      "王小波与《黄金时代》：极权下的欲望、伤逝和反抗\n",
      "实施镇压以来首次考察新疆，习近平意图彰显团结稳定\n",
      "两个落魄的华人男子，一段互相救赎的友情\n",
      "习近平香港行：胜利宣言、权力展示和警告\n",
      "“香港的一切都变了”：在皇后大道，见证变化和重塑\n",
      "“一个无形的牢笼”：中国如何管控未来\n",
      "The New York Times\n",
      "封城下的上海\n",
      "曼哈顿消失的中文路标\n",
      "专题：“六四”30年\n",
      "关于俄罗斯入侵乌克兰，你应该知道的几个关键问题\n",
      "一场以习近平为主角的中国领导人接班大戏\n",
      "“消失”的马云给中国富豪带来的启示\n",
      "Found! Russia in https://cn.nytimes.com/technology/20210422/jack-ma-alibaba-tycoons/\n",
      "彭帅事件中，中国的审查机器是如何运转的\n"
     ]
    }
   ],
   "source": [
    "# Open a new document to write the article founded into it\n",
    "with open('today_news.txt', 'w') as f:\n",
    "    for url in urls: # From all the urls that were given (saved in urls), run through each url individualy (noted as url)\n",
    "        config = Config()\n",
    "        config.memoize_articles = False\n",
    "        \n",
    "        website = newspaper.build(url) # Build the variable called website for each url (you need this to keep going)\n",
    "        num_article_found_single = 0 # Base to calculate the number of article found in each url. (Must be in this for loop since this for loop is running through articles in each url)\n",
    "        \n",
    "        for article in website.articles: # This for loop goes through each article in each url(which is now website) and perform actions to it (get atical, download, parse, etc.)\n",
    "            article = newspaper.Article(article.url)\n",
    "            article.download()\n",
    "            article.parse()\n",
    "            #article.nlp()\n",
    "            print(article.title)\n",
    "            #f.write(str(article.title))\n",
    "            \n",
    "            if keyword_finder in article.text or keyword_finder in article.title: # If the given keyword is in the article text or article title of the url(website) that the for loop above is running though\n",
    "                print('Found! '+keyword_finder+' in '+ article.url) # Print Found!... in the window below\n",
    "                f.write(str('Found! '+keyword_finder+' in '+ article.url + '\\n')) #and write it as a string into the document\n",
    "                num_article_found_single = num_article_found_single + 1 # Add 1 to the base above to find the number of article found in a single url(website))\n",
    "        \n",
    "        str_website = str(website.size()) # Get the url(website) size for each website\n",
    "        f.write(str('\\n' + 'Number of articles on the website is:' + str_website + '\\n')) # Write it into the doc\n",
    "        str_found_per_article = str(num_article_found_single) # Get the number of article found for each website\n",
    "        f.write(str('\\n' + 'Number of articles found with keyword: '+keyword_finder +' on' + website.url + ' is: ' + str_found_per_article + '\\n')) # Write it into the doc\n",
    "        num_article_found_total = num_article_found_total + num_article_found_single # Get the total article found when going through earch doc and add them together\n",
    "    \n",
    "    str_article_found_total = str(num_article_found_total) # Convert to string\n",
    "    f.write(str('\\n' + 'Number of article found with keyword: '+keyword_finder + ' is: ' + str_article_found_total + '\\n')) # Write it into the doc"
   ]
  },
  {
   "cell_type": "code",
   "execution_count": 6,
   "id": "ef625a54",
   "metadata": {},
   "outputs": [
    {
     "name": "stdout",
     "output_type": "stream",
     "text": [
      "Number of articles on the website is: 142\n"
     ]
    }
   ],
   "source": [
    "print('Number of articles on the website is:',website.size())"
   ]
  },
  {
   "cell_type": "code",
   "execution_count": 8,
   "id": "ee05d417",
   "metadata": {},
   "outputs": [
    {
     "name": "stdout",
     "output_type": "stream",
     "text": [
      "Number of articles found with keyword:  Russia  on the website is:  8\n"
     ]
    }
   ],
   "source": [
    "print('Number of articles found with keyword: ',keyword_finder,' on the website is: ',num_article_found_total)\n"
   ]
  },
  {
   "cell_type": "code",
   "execution_count": null,
   "id": "ed6f6b76",
   "metadata": {
    "scrolled": true
   },
   "outputs": [],
   "source": []
  },
  {
   "cell_type": "code",
   "execution_count": null,
   "id": "13b77908",
   "metadata": {},
   "outputs": [],
   "source": []
  },
  {
   "cell_type": "code",
   "execution_count": null,
   "id": "ebd14de6",
   "metadata": {},
   "outputs": [],
   "source": []
  },
  {
   "cell_type": "code",
   "execution_count": null,
   "id": "6f7d7ecf",
   "metadata": {},
   "outputs": [],
   "source": []
  },
  {
   "cell_type": "markdown",
   "id": "b25e8c0f",
   "metadata": {},
   "source": [
    "##### "
   ]
  }
 ],
 "metadata": {
  "kernelspec": {
   "display_name": "Python 3 (ipykernel)",
   "language": "python",
   "name": "python3"
  },
  "language_info": {
   "codemirror_mode": {
    "name": "ipython",
    "version": 3
   },
   "file_extension": ".py",
   "mimetype": "text/x-python",
   "name": "python",
   "nbconvert_exporter": "python",
   "pygments_lexer": "ipython3",
   "version": "3.9.12"
  }
 },
 "nbformat": 4,
 "nbformat_minor": 5
}
